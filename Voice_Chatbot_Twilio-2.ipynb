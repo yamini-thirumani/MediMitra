{
 "cells": [
  {
   "cell_type": "code",
   "execution_count": null,
   "id": "22bde501",
   "metadata": {},
   "outputs": [],
   "source": [
    "import sounddevice as sd\n",
    "import numpy as np\n",
    "import scipy.io.wavfile as wav\n",
    "import speech_recognition as sr\n",
    "from googletrans import Translator\n",
    "from twilio.rest import Client"
   ]
  },
  {
   "cell_type": "code",
   "execution_count": null,
   "id": "91e9fb01",
   "metadata": {},
   "outputs": [],
   "source": [
    "# List available devices and set a valid input device\n",
    "def list_audio_devices():\n",
    "    print(sd.query_devices())"
   ]
  },
  {
   "cell_type": "code",
   "execution_count": null,
   "id": "9b8c9c81",
   "metadata": {},
   "outputs": [],
   "source": [
    "def get_voice_input():\n",
    "    samplerate = 44100  # Sampling rate\n",
    "    duration = 5  # Duration in seconds\n",
    "    print(\"Listening for symptoms... Speak now!\")\n",
    "    try:\n",
    "        audio_data = sd.rec(int(samplerate * duration), samplerate=samplerate, channels=1, dtype='int16')\n",
    "        sd.wait()  # Wait for the recording to finish\n",
    "        wav.write(\"temp_audio.wav\", samplerate, audio_data)  # Save as WAV file\n",
    "        recognizer = sr.Recognizer()\n",
    "        with sr.AudioFile(\"temp_audio.wav\") as source:\n",
    "            audio = recognizer.record(source)\n",
    "        text = recognizer.recognize_google(audio)\n",
    "        print(\"User said:\", text)\n",
    "        return text\n",
    "    except Exception as e:\n",
    "        print(\"Error capturing audio:\", e)\n",
    "        return None"
   ]
  },
  {
   "cell_type": "code",
   "execution_count": null,
   "id": "8723e26f",
   "metadata": {},
   "outputs": [],
   "source": [
    "def translate_text(text, target_lang='en'):\n",
    "    translator = Translator()\n",
    "    translated = translator.translate(text, dest=target_lang)\n",
    "    return translated.text"
   ]
  },
  {
   "cell_type": "code",
   "execution_count": null,
   "id": "8e85fa5e",
   "metadata": {},
   "outputs": [],
   "source": [
    "# Twilio configuration\n",
    "TWILIO_ACCOUNT_SID = \"your_account_sid\"\n",
    "TWILIO_AUTH_TOKEN = \"your_auth_token\"\n",
    "TWILIO_WHATSAPP_NUMBER = \"whatsapp:+14155238886\"\n",
    "YOUR_PHONE_NUMBER = \"whatsapp:+your_phone_number\""
   ]
  },
  {
   "cell_type": "code",
   "execution_count": null,
   "id": "af22b769",
   "metadata": {},
   "outputs": [],
   "source": [
    "def send_whatsapp_message(message):\n",
    "    client = Client(TWILIO_ACCOUNT_SID, TWILIO_AUTH_TOKEN)\n",
    "    try:\n",
    "        client.messages.create(\n",
    "            from_=TWILIO_WHATSAPP_NUMBER,\n",
    "            body=message,\n",
    "            to=YOUR_PHONE_NUMBER\n",
    "        )\n",
    "        print(\"Message sent successfully!\")\n",
    "    except Exception as e:\n",
    "        print(\"Failed to send message:\", e)"
   ]
  },
  {
   "cell_type": "code",
   "execution_count": null,
   "id": "ad3ebb7b",
   "metadata": {},
   "outputs": [],
   "source": [
    "def main():\n",
    "    list_audio_devices()  # List devices before recording\n",
    "    text = get_voice_input()\n",
    "    if text:\n",
    "        translated_text = translate_text(text)\n",
    "        print(\"Translated:\", translated_text)\n",
    "        send_whatsapp_message(translated_text)"
   ]
  },
  {
   "cell_type": "code",
   "execution_count": null,
   "id": "ce4c9017",
   "metadata": {},
   "outputs": [],
   "source": [
    "if __name__ == \"__main__\":\n",
    "    main()"
   ]
  }
 ],
 "metadata": {},
 "nbformat": 4,
 "nbformat_minor": 5
}